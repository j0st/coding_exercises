{
  "nbformat": 4,
  "nbformat_minor": 0,
  "metadata": {
    "colab": {
      "provenance": [],
      "gpuType": "T4"
    },
    "kernelspec": {
      "name": "python3",
      "display_name": "Python 3"
    },
    "language_info": {
      "name": "python"
    },
    "accelerator": "GPU"
  },
  "cells": [
    {
      "cell_type": "markdown",
      "source": [
        "# Test the Fine-Tuned Model\n",
        "\n",
        "If you do not have a GPU, you can test the fine-tuned model here in Google Colab with the provided free T4 GPU."
      ],
      "metadata": {
        "id": "XbbvDGTZfyDR"
      }
    },
    {
      "cell_type": "markdown",
      "source": [
        "#### Imports"
      ],
      "metadata": {
        "id": "XxqdccmJf-T-"
      }
    },
    {
      "cell_type": "code",
      "execution_count": null,
      "metadata": {
        "id": "WOn1qZvY5DVD"
      },
      "outputs": [],
      "source": [
        "!pip install \"unsloth[colab-new] @ git+https://github.com/unslothai/unsloth.git\"\n",
        "!pip install --no-deps xformers trl peft accelerate bitsandbytes"
      ]
    },
    {
      "cell_type": "markdown",
      "source": [
        "#### Load fine-tuned model\n",
        "I use the optimized inference function from [unsloth](https://github.com/unslothai/unsloth) which is faster than the Hugging Face inference pipeline."
      ],
      "metadata": {
        "id": "5NkvSuH_gAGB"
      }
    },
    {
      "cell_type": "code",
      "source": [
        "from unsloth import FastLanguageModel\n",
        "import torch\n",
        "\n",
        "max_seq_length = 2048\n",
        "dtype = None\n",
        "load_in_4bit = True\n",
        "\n",
        "model, tokenizer = FastLanguageModel.from_pretrained(\n",
        "    model_name = \"jost/mistral7b_plantuml\",\n",
        "    max_seq_length = max_seq_length,\n",
        "    dtype = dtype,\n",
        "    load_in_4bit = load_in_4bit)"
      ],
      "metadata": {
        "id": "mJ9RW0sT5Q7j"
      },
      "execution_count": null,
      "outputs": []
    },
    {
      "cell_type": "markdown",
      "source": [
        "#### Prompt\n",
        "I prompt the model with an example from the dataset and format it properly. The line breaks are important in the description. If you omit them, the model will also output PlantUML code without line breaks."
      ],
      "metadata": {
        "id": "eTBqi7rRghjx"
      }
    },
    {
      "cell_type": "code",
      "source": [
        "prompt =\"\"\"\\nFor the given description, generate \\na Sequence diagram diagram using plantuml. \\nDescription: Use Case Name: Patient Registration\\nUse Case ID: HC-001\\n\\nUse Case Description:\\nThis use case describes the process of registering a new patient in a healthcare system.\\n\\nUse Case Actors:\\n1. Front desk staff\\n2. Patient\\n\\nUse Case Triggers:\\n- A new patient arrives at the healthcare facility and wants to register.\\n\\nUse Case Preconditions:\\n- The patient has not been registered in the system before.\\n- The front desk staff is available to assist the patient.\\n\\nUse Case Postconditions:\\n- The patient\\'s information is recorded in the healthcare system.\\n- The patient is assigned a unique identification number.\\n\\nUse Case Flow:\\n1. The patient approaches the front desk and expresses the intention to register.\\n2. The front desk staff welcomes the patient and requests basic information such as name, date of birth, address, contact number, and insurance details.\\n3. The front desk staff enters the patient\\'s information into the healthcare system.\\n4. The system validates the entered information for accuracy.\\n5. If any errors are detected, the front desk staff corrects the information.\\n6. Once the information is accurate, the system generates a unique patient identification number.\\n7. The front desk staff assigns the identification number to the patient and provides any necessary registration documents.\\n8. The front desk staff informs the patient about the next steps, such as appointment scheduling or waiting for a healthcare provider.\\n9. The patient thanks the front desk staff and proceeds accordingly.\\n\\nExceptions:\\n- If the patient\\'s information already exists in the system, the front desk staff alerts the patient and follows the appropriate process for updating the existing record.\\n- If there are technical issues with the healthcare system, the front desk staff uses an alternative method for recording the patient\\'s information, such as paper forms.\\n\\nBusiness Rules:\\n- The patient\\'s information must be accurate and up-to-date.\\n- The patient must provide valid identification and insurance details, if applicable.\\n- The patient\\'s privacy and confidentiality must be maintained throughout the registration process.\\n\\nNotes:\\n- This use case focuses on the initial registration of a new patient and does not cover subsequent visits or updates to the patient\\'s information.\\n- The specific fields and information required may vary depending on the healthcare facility and its policies.\\n\\nScenarios:\\n1. The patient provides incorrect contact information during registration:\\n   - The front desk staff identifies the error and asks the patient to provide the correct information.\\n   - The staff updates the patient\\'s contact details in the system and re-verifies the accuracy.\\n\\n2. The healthcare system experiences a temporary outage during registration:\\n   - The front desk staff informs the patient about the technical issue and apologizes for the inconvenience.\\n   - The staff records the patient\\'s information manually using paper forms until the system is restored.\\n   - Once the system is back online, the staff transfers the manually recorded information into the system.\\n\\nAdd import elements which are missing in the description to\\ngenerate a complete diagram.\\n\\nThe basic syntax for the diagram is as follows:\\n@startuml\\nparticipant User as U\\nparticipant \"Order System\" as OS\\nparticipant \"Payment System\" as PS\\nU -> OS: Place Order\\nactivate OS\\nOS -> PS: Request Payment\\nactivate PS\\nPS -->> U: Payment Confirmation\\ndeactivate PS\\nOS -->> U: Order Confirmation\\ndeactivate OS\\n@enduml\\n\"\"\"\n",
        "template = f\"[INST] {prompt} [/INST]\""
      ],
      "metadata": {
        "id": "XyQAi3Sb7A0q"
      },
      "execution_count": null,
      "outputs": []
    },
    {
      "cell_type": "markdown",
      "source": [
        "#### Run inference\n",
        "The inference function returns the prompt as well. I remove the prompt and the special tokens from the generated output to get the generated PlantUML code."
      ],
      "metadata": {
        "id": "ht4VkZ2mha_3"
      }
    },
    {
      "cell_type": "code",
      "source": [
        "FastLanguageModel.for_inference(model)\n",
        "inputs = tokenizer([template], return_tensors = \"pt\").to(\"cuda\")\n",
        "\n",
        "outputs = model.generate(**inputs, max_new_tokens = 500, use_cache = True)\n",
        "response = tokenizer.batch_decode(outputs)"
      ],
      "metadata": {
        "colab": {
          "base_uri": "https://localhost:8080/"
        },
        "id": "CfxT9og2687F",
        "outputId": "0b6510b9-dbad-42ad-f771-2e549d8d05d9"
      },
      "execution_count": null,
      "outputs": [
        {
          "output_type": "stream",
          "name": "stderr",
          "text": [
            "Setting `pad_token_id` to `eos_token_id`:2 for open-end generation.\n"
          ]
        }
      ]
    },
    {
      "cell_type": "code",
      "source": [
        "generated_response = response[0].replace(template, \"\")\n",
        "print(generated_response[4:-4])"
      ],
      "metadata": {
        "colab": {
          "base_uri": "https://localhost:8080/"
        },
        "id": "LvX_69Y9zWRB",
        "outputId": "c2165a55-952d-4970-d61e-73dfe0c6bb0f"
      },
      "execution_count": null,
      "outputs": [
        {
          "output_type": "stream",
          "name": "stdout",
          "text": [
            "@startuml\n",
            "actor \"Front Desk Staff\" as FDS\n",
            "actor Patient as P\n",
            "\n",
            "participant \"Healthcare System\" as HS\n",
            "\n",
            "FDS -> P: Welcome and request basic information\n",
            "activate P\n",
            "P -> FDS: Provide basic information\n",
            "deactivate P\n",
            "FDS -> HS: Enter patient information\n",
            "activate HS\n",
            "HS -> FDS: Validate information\n",
            "deactivate HS\n",
            "FDS -> HS: Correct information if necessary\n",
            "activate HS\n",
            "HS -> FDS: Generate unique patient identification number\n",
            "deactivate HS\n",
            "FDS -> P: Assign identification number and provide registration documents\n",
            "activate P\n",
            "P -> FDS: Thank and proceed accordingly\n",
            "deactivate P\n",
            "FDS -> HS: Inform patient about next steps\n",
            "activate HS\n",
            "HS -> FDS: Provide next steps information\n",
            "deactivate HS\n",
            "FDS -> P: Inform patient about next steps\n",
            "activate P\n",
            "P -> FDS: Thank and proceed accordingly\n",
            "deactivate P\n",
            "\n",
            "note left of FDS: Exceptions\n",
            "note right of FDS: Business Rules\n",
            "note over FDS: Scenarios\n",
            "\n",
            "@enduml\n"
          ]
        }
      ]
    }
  ]
}